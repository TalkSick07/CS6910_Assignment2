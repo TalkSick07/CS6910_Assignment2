{
  "cells": [
    {
      "cell_type": "code",
      "execution_count": null,
      "metadata": {
        "id": "1n3lJ0BXBajc"
      },
      "outputs": [],
      "source": [
        "#Necessary Libraries\n",
        "import numpy as np\n",
        "import tensorflow\n",
        "from keras.utils import np_utils\n",
        "from tensorflow.keras import regularizers\n",
        "from tensorflow.keras.optimizers import Adam\n",
        "from tensorflow.keras.models import Sequential\n",
        "from tensorflow.keras.preprocessing.image import ImageDataGenerator\n",
        "from tensorflow.keras.layers import Dense, Flatten, Conv2D, BatchNormalization, Dropout, MaxPooling2D, Activation\n",
        "from tensorflow.keras.applications import InceptionV3, InceptionResNetV2, ResNet50, Xception"
      ]
    },
    {
      "cell_type": "code",
      "execution_count": null,
      "metadata": {
        "colab": {
          "base_uri": "https://localhost:8080/"
        },
        "id": "cabP6Q9zCNJY",
        "outputId": "b0f2cb75-f10d-4621-edc7-3e6272abe065"
      },
      "outputs": [
        {
          "output_type": "stream",
          "name": "stdout",
          "text": [
            "Mounted at /content/drive\n"
          ]
        }
      ],
      "source": [
        "#Mounting the drive to access the dataset\n",
        "from google.colab import drive\n",
        "drive.mount('/content/drive')"
      ]
    },
    {
      "cell_type": "code",
      "execution_count": null,
      "metadata": {
        "id": "Ww3jRoxuCd-e"
      },
      "outputs": [],
      "source": [
        "#Unzipping the nature_12K.zip dataset\n",
        "zip_path = \"/content/drive/MyDrive/Dataset/nature_12K.zip\"\n",
        "!cp \"{zip_path}\" .\n",
        "!unzip -q nature_12K.zip\n",
        "!rm nature_12K.zip"
      ]
    },
    {
      "cell_type": "code",
      "execution_count": null,
      "metadata": {
        "id": "bBL-yoIPCiB-",
        "colab": {
          "base_uri": "https://localhost:8080/"
        },
        "outputId": "4097d0df-3271-404c-c4cf-a87cd53a38b7"
      },
      "outputs": [
        {
          "output_type": "stream",
          "name": "stdout",
          "text": [
            "\u001b[K     |████████████████████████████████| 1.7 MB 5.2 MB/s \n",
            "\u001b[K     |████████████████████████████████| 181 kB 45.2 MB/s \n",
            "\u001b[K     |████████████████████████████████| 144 kB 46.1 MB/s \n",
            "\u001b[K     |████████████████████████████████| 63 kB 1.4 MB/s \n",
            "\u001b[?25h  Building wheel for pathtools (setup.py) ... \u001b[?25l\u001b[?25hdone\n"
          ]
        }
      ],
      "source": [
        "#Installing the wandb library\n",
        "\n",
        "!pip install wandb -qqq\n",
        "import wandb\n",
        "from wandb.keras import WandbCallback"
      ]
    },
    {
      "cell_type": "code",
      "execution_count": null,
      "metadata": {
        "id": "2rya88toGog8"
      },
      "outputs": [],
      "source": [
        "# Storing the training and testing directories\n",
        "import os \n",
        "Tags = ['Amphibia','Animalia','Arachnida','Aves','Fungi','Insecta','Mammalia','Mollusca','Plantae','Reptilia']\n",
        "no_class = 10\n",
        "train_dir='inaturalist_12K/train/'\n",
        "test_dir='inaturalist_12K/val/'"
      ]
    },
    {
      "cell_type": "code",
      "execution_count": null,
      "metadata": {
        "id": "eDsrg3RAGw9l"
      },
      "outputs": [],
      "source": [
        "# Generating the dataset for training and validation\n",
        "def train_val__test_data_generation(image_size=128,batch_size=256,augment_data=False):\n",
        "    #Augmenting the data to avoid overfitting\n",
        "    if augment_data:\n",
        "        train_datagen = ImageDataGenerator(rescale=1./255,\n",
        "                                          rotation_range=45,\n",
        "                                          zoom_range=0.2,\n",
        "                                          shear_range=0.2,\n",
        "                                          validation_split=0.1,\n",
        "                                          horizontal_flip=True,\n",
        "                                          vertical_flip=False)\n",
        "        test_datagen = ImageDataGenerator(rescale=1./255)\n",
        "\n",
        "    else:\n",
        "        train_datagen = ImageDataGenerator(rescale=1./255, validation_split=0.1)\n",
        "        test_datagen = ImageDataGenerator(rescale=1./255)\n",
        "\n",
        "    #Generating data batch by batch in order to make the model faster to run the dataset\n",
        "    train_generator = train_datagen.flow_from_directory(train_dir, target_size=(image_size,image_size), batch_size=batch_size, subset=\"training\")\n",
        "    val_generator = train_datagen.flow_from_directory(train_dir, target_size=(image_size,image_size), batch_size=batch_size, subset=\"validation\")\n",
        "    test_generator = test_datagen.flow_from_directory(test_dir, target_size=(image_size,image_size), batch_size=batch_size)\n",
        "    \n",
        "    return train_generator, val_generator, test_generator"
      ]
    },
    {
      "cell_type": "code",
      "execution_count": null,
      "metadata": {
        "id": "p6SwMjhdN80U"
      },
      "outputs": [],
      "source": [
        "#Configurations to find out the best hyperparameters out of them\n",
        "sweep_config = {\n",
        "    'method': 'bayes', \n",
        "    'metric': {\n",
        "      'name': 'val_accuracy',\n",
        "      'goal': 'maximize'   \n",
        "    },\n",
        "    'parameters': {\n",
        "        'weight_decay': {\n",
        "            'values': [0, 0.0005, 0.005]\n",
        "        },\n",
        "        'pre_trained_model': {\n",
        "            'values':['Inceptionv3','Inceptionresnetv2','Xception','Resnet50']\n",
        "        },\n",
        "        'dropout': {\n",
        "            'values': [0, 0.2, 0.3, 0.4]\n",
        "        },\n",
        "        'batch_norm':{\n",
        "            'values': [True,False]\n",
        "        },\n",
        "        'augment_data': {\n",
        "            'values': [True,False]\n",
        "        },\n",
        "        'batch_size': {\n",
        "            'values': [32, 64, 128, 256]\n",
        "        },\n",
        "        'dense_size':{\n",
        "            'values': [64, 128, 256, 512]\n",
        "        }\n",
        "    }\n",
        "}"
      ]
    },
    {
      "cell_type": "code",
      "source": [
        "def PreTrainedModel():\n",
        "    #default configurations\n",
        "    config_defaults = {\n",
        "        'weight_decay': 0.005,\n",
        "        'dropout': 0.2,\n",
        "        'batch_size': 64,\n",
        "        'epochs': 10,\n",
        "        'batch_norm': True,\n",
        "        'augment_data': True,\n",
        "        'dense_size': 256,\n",
        "        'seed': 1234,\n",
        "        'pre_trained_model': 'Xception'\n",
        "    }\n",
        "    image_size=128\n",
        "    # Initialize a new wandb run\n",
        "    wandb.init(config=config_defaults)\n",
        "    #config will store the hyperparameters\n",
        "    config = wandb.config\n",
        "    wandb.run.name = 'pmodel_'+ str(config.pre_trained_model)+'dense_size_'+ str(config.dense_size)+'_dropout_'+str(config.dropout)+'_bn_'+str(config.batch_norm)+'_ag_'+ str(config.augment_data)\n",
        "\n",
        "    if config.pre_trained_model == 'Inceptionv3':\n",
        "        image_size=299\n",
        "        pmodel = InceptionV3(include_top=False, weights='imagenet',input_shape=(image_size,image_size,3))\n",
        "    elif config.pre_trained_model == 'Inceptionresnetv2':\n",
        "        image_size=299\n",
        "        pmodel = InceptionResNetV2(include_top=False, weights='imagenet',input_shape=(image_size,image_size,3))\n",
        "    elif config.pre_trained_model == 'Xception':\n",
        "        image_size=299\n",
        "        pmodel = Xception(include_top=False, weights='imagenet',input_shape=(image_size,image_size,3))\n",
        "    elif config.pre_trained_model == 'Resnet50':\n",
        "        image_size=224\n",
        "        pmodel = ResNet50(include_top=False, weights='imagenet',input_shape=(image_size,image_size,3))\n",
        "  \n",
        "\n",
        "    pmodel.trainable = False\n",
        "    model = Sequential()\n",
        "    model.add(pmodel)\n",
        "    model.add(Flatten())\n",
        "    if config.batch_norm:\n",
        "        model.add(BatchNormalization())\n",
        "    model.add(Dense(config.dense_size, activation='relu'))\n",
        "    model.add(Dropout(config.dropout))\n",
        "    model.add(Dense(10, activation='softmax'))\n",
        "    model.compile(loss = \"categorical_crossentropy\", optimizer = 'adam', metrics=['accuracy'])\n",
        "    train_generator, val_generator, test_generator = train_val__test_data_generation(image_size=image_size,batch_size=config.batch_size,augment_data=config.augment_data)\n",
        "    hist=model.fit(train_generator, epochs=config.epochs, validation_data=val_generator, callbacks=[WandbCallback()])\n",
        "    val_acc=max(hist.history['val_accuracy'])\n",
        "    params={'batch_norm':config.batch_norm,'augmentation':config.augment_data,'dropout':config.dropout,\n",
        "            'pre_trained_model':config.pre_trained_model,'val_acc':val_acc}\n",
        "    wandb.log(params)"
      ],
      "metadata": {
        "id": "bXKEteX2P8eX"
      },
      "execution_count": null,
      "outputs": []
    },
    {
      "cell_type": "code",
      "execution_count": null,
      "metadata": {
        "colab": {
          "base_uri": "https://localhost:8080/",
          "height": 121
        },
        "id": "fYxTlBMdawv-",
        "outputId": "90795bcd-b451-4a9a-ca5b-42a707fd56c1"
      },
      "outputs": [
        {
          "output_type": "display_data",
          "data": {
            "text/plain": [
              "<IPython.core.display.Javascript object>"
            ],
            "application/javascript": [
              "\n",
              "        window._wandbApiKey = new Promise((resolve, reject) => {\n",
              "            function loadScript(url) {\n",
              "            return new Promise(function(resolve, reject) {\n",
              "                let newScript = document.createElement(\"script\");\n",
              "                newScript.onerror = reject;\n",
              "                newScript.onload = resolve;\n",
              "                document.body.appendChild(newScript);\n",
              "                newScript.src = url;\n",
              "            });\n",
              "            }\n",
              "            loadScript(\"https://cdn.jsdelivr.net/npm/postmate/build/postmate.min.js\").then(() => {\n",
              "            const iframe = document.createElement('iframe')\n",
              "            iframe.style.cssText = \"width:0;height:0;border:none\"\n",
              "            document.body.appendChild(iframe)\n",
              "            const handshake = new Postmate({\n",
              "                container: iframe,\n",
              "                url: 'https://wandb.ai/authorize'\n",
              "            });\n",
              "            const timeout = setTimeout(() => reject(\"Couldn't auto authenticate\"), 5000)\n",
              "            handshake.then(function(child) {\n",
              "                child.on('authorize', data => {\n",
              "                    clearTimeout(timeout)\n",
              "                    resolve(data)\n",
              "                });\n",
              "            });\n",
              "            })\n",
              "        });\n",
              "    "
            ]
          },
          "metadata": {}
        },
        {
          "output_type": "stream",
          "name": "stderr",
          "text": [
            "\u001b[34m\u001b[1mwandb\u001b[0m: You can find your API key in your browser here: https://wandb.ai/authorize\n"
          ]
        },
        {
          "name": "stdout",
          "output_type": "stream",
          "text": [
            "wandb: Paste an API key from your profile and hit enter, or press ctrl+c to quit: ··········\n"
          ]
        },
        {
          "output_type": "stream",
          "name": "stderr",
          "text": [
            "\u001b[34m\u001b[1mwandb\u001b[0m: Appending key for api.wandb.ai to your netrc file: /root/.netrc\n"
          ]
        },
        {
          "output_type": "stream",
          "name": "stdout",
          "text": [
            "Create sweep with ID: 5uprwamt\n",
            "Sweep URL: https://wandb.ai/nomads/CS6910_DL_Assignment2/sweeps/5uprwamt\n"
          ]
        }
      ],
      "source": [
        "sweep_id = wandb.sweep(sweep_config, project=\"CS6910_DL_Assignment2\", entity=\"nomads\")\n"
      ]
    },
    {
      "cell_type": "code",
      "execution_count": null,
      "metadata": {
        "colab": {
          "base_uri": "https://localhost:8080/",
          "height": 1000,
          "referenced_widgets": [
            "eeda281081964ccabfb00693903bddba",
            "7e30117f50d24d708ae9b28dde51a8aa",
            "17a3acb518034983b8804235fd43f093",
            "49359e9c802648619c6dee5d2a40fe8a",
            "7a3fb60e03094d37bfb72160776cbb57",
            "545ab57f98354fd98d27071359532da0",
            "cbce7bdb4f5c4716b78a63349a35bbf6",
            "091b1d8da92a42d4abea4cc75056d09a"
          ]
        },
        "id": "gu3G7r1ya_Ji",
        "outputId": "2735a42a-cd8e-4c82-a86d-571f734e7e2a"
      },
      "outputs": [
        {
          "output_type": "stream",
          "name": "stderr",
          "text": [
            "\u001b[34m\u001b[1mwandb\u001b[0m: Agent Starting Run: mpc5ye1j with config:\n",
            "\u001b[34m\u001b[1mwandb\u001b[0m: \taugment_data: False\n",
            "\u001b[34m\u001b[1mwandb\u001b[0m: \tbatch_norm: False\n",
            "\u001b[34m\u001b[1mwandb\u001b[0m: \tbatch_size: 128\n",
            "\u001b[34m\u001b[1mwandb\u001b[0m: \tdense_size: 256\n",
            "\u001b[34m\u001b[1mwandb\u001b[0m: \tdropout: 0.4\n",
            "\u001b[34m\u001b[1mwandb\u001b[0m: \tpre_trained_model: Xception\n",
            "\u001b[34m\u001b[1mwandb\u001b[0m: \tweight_decay: 0\n",
            "\u001b[34m\u001b[1mwandb\u001b[0m: Currently logged in as: \u001b[33mnomads\u001b[0m (use `wandb login --relogin` to force relogin)\n"
          ]
        },
        {
          "output_type": "display_data",
          "data": {
            "text/plain": [
              "<IPython.core.display.HTML object>"
            ],
            "text/html": [
              "Tracking run with wandb version 0.12.11"
            ]
          },
          "metadata": {}
        },
        {
          "output_type": "display_data",
          "data": {
            "text/plain": [
              "<IPython.core.display.HTML object>"
            ],
            "text/html": [
              "Run data is saved locally in <code>/content/wandb/run-20220401_160650-mpc5ye1j</code>"
            ]
          },
          "metadata": {}
        },
        {
          "output_type": "display_data",
          "data": {
            "text/plain": [
              "<IPython.core.display.HTML object>"
            ],
            "text/html": [
              "Syncing run <strong><a href=\"https://wandb.ai/nomads/CS6910_DL_Assignment2/runs/mpc5ye1j\" target=\"_blank\">hopeful-sweep-19</a></strong> to <a href=\"https://wandb.ai/nomads/CS6910_DL_Assignment2\" target=\"_blank\">Weights & Biases</a> (<a href=\"https://wandb.me/run\" target=\"_blank\">docs</a>)<br/>Sweep page:  <a href=\"https://wandb.ai/nomads/CS6910_DL_Assignment2/sweeps/i1haqmcw\" target=\"_blank\">https://wandb.ai/nomads/CS6910_DL_Assignment2/sweeps/i1haqmcw</a>"
            ]
          },
          "metadata": {}
        },
        {
          "output_type": "stream",
          "name": "stdout",
          "text": [
            "Downloading data from https://storage.googleapis.com/tensorflow/keras-applications/xception/xception_weights_tf_dim_ordering_tf_kernels_notop.h5\n",
            "83689472/83683744 [==============================] - 1s 0us/step\n",
            "83697664/83683744 [==============================] - 1s 0us/step\n",
            "Found 9000 images belonging to 10 classes.\n",
            "Found 999 images belonging to 10 classes.\n",
            "Found 2000 images belonging to 10 classes.\n",
            "Epoch 1/10\n",
            "71/71 [==============================] - 225s 3s/step - loss: 2.8041 - accuracy: 0.6046 - val_loss: 0.8746 - val_accuracy: 0.7497 - _timestamp: 1648829450.0000 - _runtime: 240.0000\n",
            "Epoch 2/10\n",
            "71/71 [==============================] - 200s 3s/step - loss: 0.8396 - accuracy: 0.7408 - val_loss: 0.8453 - val_accuracy: 0.7648 - _timestamp: 1648829691.0000 - _runtime: 481.0000\n",
            "Epoch 3/10\n",
            "71/71 [==============================] - 194s 3s/step - loss: 0.6731 - accuracy: 0.7796 - val_loss: 0.7550 - val_accuracy: 0.7828 - _timestamp: 1648829885.0000 - _runtime: 675.0000\n",
            "Epoch 4/10\n",
            "71/71 [==============================] - 199s 3s/step - loss: 0.6263 - accuracy: 0.7968 - val_loss: 0.7213 - val_accuracy: 0.7938 - _timestamp: 1648830082.0000 - _runtime: 872.0000\n",
            "Epoch 5/10\n",
            "71/71 [==============================] - 198s 3s/step - loss: 0.5649 - accuracy: 0.8143 - val_loss: 0.8018 - val_accuracy: 0.7808 - _timestamp: 1648830288.0000 - _runtime: 1078.0000\n",
            "Epoch 6/10\n",
            "71/71 [==============================] - 193s 3s/step - loss: 0.5096 - accuracy: 0.8309 - val_loss: 0.7503 - val_accuracy: 0.7998 - _timestamp: 1648830481.0000 - _runtime: 1271.0000\n",
            "Epoch 7/10\n",
            "71/71 [==============================] - 189s 3s/step - loss: 0.4458 - accuracy: 0.8466 - val_loss: 0.8222 - val_accuracy: 0.8008 - _timestamp: 1648830669.0000 - _runtime: 1459.0000\n",
            "Epoch 8/10\n",
            "71/71 [==============================] - 188s 3s/step - loss: 0.4088 - accuracy: 0.8546 - val_loss: 0.7797 - val_accuracy: 0.8008 - _timestamp: 1648830858.0000 - _runtime: 1648.0000\n",
            "Epoch 9/10\n",
            "71/71 [==============================] - 188s 3s/step - loss: 0.3792 - accuracy: 0.8652 - val_loss: 0.8281 - val_accuracy: 0.8008 - _timestamp: 1648831045.0000 - _runtime: 1835.0000\n",
            "Epoch 10/10\n",
            "71/71 [==============================] - 190s 3s/step - loss: 0.3576 - accuracy: 0.8670 - val_loss: 0.7639 - val_accuracy: 0.8118 - _timestamp: 1648831235.0000 - _runtime: 2025.0000\n",
            "\n"
          ]
        },
        {
          "output_type": "display_data",
          "data": {
            "text/plain": [
              "<IPython.core.display.HTML object>"
            ],
            "text/html": [
              "Waiting for W&B process to finish... <strong style=\"color:green\">(success).</strong>"
            ]
          },
          "metadata": {}
        },
        {
          "output_type": "display_data",
          "data": {
            "text/plain": [
              "VBox(children=(Label(value='679.881 MB of 679.881 MB uploaded (0.000 MB deduped)\\r'), FloatProgress(value=1.0,…"
            ],
            "application/vnd.jupyter.widget-view+json": {
              "version_major": 2,
              "version_minor": 0,
              "model_id": "eeda281081964ccabfb00693903bddba"
            }
          },
          "metadata": {}
        },
        {
          "output_type": "display_data",
          "data": {
            "text/plain": [
              "<IPython.core.display.HTML object>"
            ],
            "text/html": [
              "<style>\n",
              "    table.wandb td:nth-child(1) { padding: 0 10px; text-align: right }\n",
              "    .wandb-row { display: flex; flex-direction: row; flex-wrap: wrap; width: 100% }\n",
              "    .wandb-col { display: flex; flex-direction: column; flex-basis: 100%; flex: 1; padding: 10px; }\n",
              "    </style>\n",
              "<div class=\"wandb-row\"><div class=\"wandb-col\"><h3>Run history:</h3><br/><table class=\"wandb\"><tr><td>accuracy</td><td>▁▅▆▆▇▇▇███</td></tr><tr><td>augmentation</td><td>▁</td></tr><tr><td>batch_norm</td><td>▁</td></tr><tr><td>dropout</td><td>▁</td></tr><tr><td>epoch</td><td>▁▂▃▃▄▅▆▆▇█</td></tr><tr><td>loss</td><td>█▂▂▂▂▁▁▁▁▁</td></tr><tr><td>val_acc</td><td>▁</td></tr><tr><td>val_accuracy</td><td>▁▃▅▆▅▇▇▇▇█</td></tr><tr><td>val_loss</td><td>█▇▃▁▅▂▆▄▆▃</td></tr></table><br/></div><div class=\"wandb-col\"><h3>Run summary:</h3><br/><table class=\"wandb\"><tr><td>accuracy</td><td>0.867</td></tr><tr><td>augmentation</td><td>False</td></tr><tr><td>batch_norm</td><td>False</td></tr><tr><td>best_epoch</td><td>3</td></tr><tr><td>best_val_loss</td><td>0.72126</td></tr><tr><td>dropout</td><td>0.4</td></tr><tr><td>epoch</td><td>9</td></tr><tr><td>loss</td><td>0.35757</td></tr><tr><td>pre_trained_model</td><td>Xception</td></tr><tr><td>val_acc</td><td>0.81181</td></tr><tr><td>val_accuracy</td><td>0.81181</td></tr><tr><td>val_loss</td><td>0.76393</td></tr></table><br/></div></div>"
            ]
          },
          "metadata": {}
        },
        {
          "output_type": "display_data",
          "data": {
            "text/plain": [
              "<IPython.core.display.HTML object>"
            ],
            "text/html": [
              "Synced <strong style=\"color:#cdcd00\">hopeful-sweep-19</strong>: <a href=\"https://wandb.ai/nomads/CS6910_DL_Assignment2/runs/mpc5ye1j\" target=\"_blank\">https://wandb.ai/nomads/CS6910_DL_Assignment2/runs/mpc5ye1j</a><br/>Synced 5 W&B file(s), 1 media file(s), 0 artifact file(s) and 1 other file(s)"
            ]
          },
          "metadata": {}
        },
        {
          "output_type": "display_data",
          "data": {
            "text/plain": [
              "<IPython.core.display.HTML object>"
            ],
            "text/html": [
              "Find logs at: <code>./wandb/run-20220401_160650-mpc5ye1j/logs</code>"
            ]
          },
          "metadata": {}
        }
      ],
      "source": [
        "wandb.agent('i1haqmcw',PreTrainedModel, count = 1)"
      ]
    },
    {
      "cell_type": "code",
      "source": [
        "#Testing the model with the best configuration on test data\n",
        "def test():\n",
        "    \n",
        "    #best_configuration obtained from training and validation\n",
        "        best_weight_decay= 0\n",
        "        best_dropout= 0.4\n",
        "        best_batch_size= 128\n",
        "        best_dense_size= 256\n",
        "        best_batch_norm= False\n",
        "        best_data_augment= False\n",
        "        best_pre_trained_model= 'Inceptionresnetv2'\n",
        "        image_size=299\n",
        "        \n",
        "        pmodel=InceptionResNetV2(include_top=False, weights='imagenet',input_shape=(image_size,image_size,3))\n",
        "        pmodel.trainable = False\n",
        "        model = Sequential()\n",
        "        model.add(pmodel)\n",
        "        model.add(Flatten())\n",
        "        if best_batch_norm:\n",
        "            model.add(BatchNormalization())\n",
        "        model.add(Dense(best_dense_size, activation='relu'))\n",
        "        model.add(Dropout(best_dropout))\n",
        "        model.add(Dense(10, activation='softmax'))\n",
        "        model.compile(loss = \"categorical_crossentropy\", optimizer = 'adam', metrics=['accuracy'])\n",
        "        train_generator, val_generator, test_generator = train_val__test_data_generation(image_size=image_size,batch_size=best_batch_size,augment_data=best_data_augment)\n",
        "        model.fit(train_generator, epochs=10, validation_data=val_generator)\n",
        "\n",
        "        return model"
      ],
      "metadata": {
        "id": "_T3H-jL_KAkA"
      },
      "execution_count": null,
      "outputs": []
    },
    {
      "cell_type": "code",
      "source": [
        "model=test()\n",
        "train_generator, val_generator, test_generator = train_val__test_data_generation(image_size=299,batch_size=128,augment_data=False)\n",
        "model.evaluate(test_generator)"
      ],
      "metadata": {
        "colab": {
          "base_uri": "https://localhost:8080/"
        },
        "id": "1PUtyBo9Q0XA",
        "outputId": "4ac043c8-eec7-42a9-efb4-f507889ab5d0"
      },
      "execution_count": null,
      "outputs": [
        {
          "output_type": "stream",
          "name": "stdout",
          "text": [
            "Found 9000 images belonging to 10 classes.\n",
            "Found 999 images belonging to 10 classes.\n",
            "Found 2000 images belonging to 10 classes.\n",
            "Epoch 1/10\n",
            "71/71 [==============================] - 237s 3s/step - loss: 2.5904 - accuracy: 0.6150 - val_loss: 0.8058 - val_accuracy: 0.7548\n",
            "Epoch 2/10\n",
            "71/71 [==============================] - 204s 3s/step - loss: 0.8630 - accuracy: 0.7390 - val_loss: 0.7411 - val_accuracy: 0.7698\n",
            "Epoch 3/10\n",
            "71/71 [==============================] - 204s 3s/step - loss: 0.7757 - accuracy: 0.7613 - val_loss: 0.7097 - val_accuracy: 0.7988\n",
            "Epoch 4/10\n",
            "71/71 [==============================] - 204s 3s/step - loss: 0.6706 - accuracy: 0.7816 - val_loss: 0.7296 - val_accuracy: 0.8178\n",
            "Epoch 5/10\n",
            "71/71 [==============================] - 204s 3s/step - loss: 0.6050 - accuracy: 0.7990 - val_loss: 0.6940 - val_accuracy: 0.8098\n",
            "Epoch 6/10\n",
            "71/71 [==============================] - 204s 3s/step - loss: 0.5538 - accuracy: 0.8157 - val_loss: 0.7344 - val_accuracy: 0.8198\n",
            "Epoch 7/10\n",
            "71/71 [==============================] - 204s 3s/step - loss: 0.5034 - accuracy: 0.8274 - val_loss: 0.7847 - val_accuracy: 0.8058\n",
            "Epoch 8/10\n",
            "71/71 [==============================] - 204s 3s/step - loss: 0.4727 - accuracy: 0.8402 - val_loss: 0.7168 - val_accuracy: 0.8238\n",
            "Epoch 9/10\n",
            "71/71 [==============================] - 204s 3s/step - loss: 0.4341 - accuracy: 0.8463 - val_loss: 0.8528 - val_accuracy: 0.8238\n",
            "Epoch 10/10\n",
            "71/71 [==============================] - 204s 3s/step - loss: 0.4019 - accuracy: 0.8584 - val_loss: 0.8560 - val_accuracy: 0.8138\n",
            "Found 9000 images belonging to 10 classes.\n",
            "Found 999 images belonging to 10 classes.\n",
            "Found 2000 images belonging to 10 classes.\n",
            "16/16 [==============================] - 49s 3s/step - loss: 0.8794 - accuracy: 0.8170\n"
          ]
        },
        {
          "output_type": "execute_result",
          "data": {
            "text/plain": [
              "[0.8794358372688293, 0.8169999718666077]"
            ]
          },
          "metadata": {},
          "execution_count": 15
        }
      ]
    }
  ],
  "metadata": {
    "colab": {
      "collapsed_sections": [],
      "name": "CS6910_Assignment2B_Updated.ipynb",
      "provenance": []
    },
    "kernelspec": {
      "display_name": "Python 3",
      "name": "python3"
    },
    "language_info": {
      "name": "python"
    },
    "widgets": {
      "application/vnd.jupyter.widget-state+json": {
        "eeda281081964ccabfb00693903bddba": {
          "model_module": "@jupyter-widgets/controls",
          "model_name": "VBoxModel",
          "model_module_version": "1.5.0",
          "state": {
            "_dom_classes": [],
            "_model_module": "@jupyter-widgets/controls",
            "_model_module_version": "1.5.0",
            "_model_name": "VBoxModel",
            "_view_count": null,
            "_view_module": "@jupyter-widgets/controls",
            "_view_module_version": "1.5.0",
            "_view_name": "VBoxView",
            "box_style": "",
            "children": [
              "IPY_MODEL_7e30117f50d24d708ae9b28dde51a8aa",
              "IPY_MODEL_17a3acb518034983b8804235fd43f093"
            ],
            "layout": "IPY_MODEL_49359e9c802648619c6dee5d2a40fe8a"
          }
        },
        "7e30117f50d24d708ae9b28dde51a8aa": {
          "model_module": "@jupyter-widgets/controls",
          "model_name": "LabelModel",
          "model_module_version": "1.5.0",
          "state": {
            "_dom_classes": [],
            "_model_module": "@jupyter-widgets/controls",
            "_model_module_version": "1.5.0",
            "_model_name": "LabelModel",
            "_view_count": null,
            "_view_module": "@jupyter-widgets/controls",
            "_view_module_version": "1.5.0",
            "_view_name": "LabelView",
            "description": "",
            "description_tooltip": null,
            "layout": "IPY_MODEL_7a3fb60e03094d37bfb72160776cbb57",
            "placeholder": "​",
            "style": "IPY_MODEL_545ab57f98354fd98d27071359532da0",
            "value": "679.892 MB of 679.892 MB uploaded (0.000 MB deduped)\r"
          }
        },
        "17a3acb518034983b8804235fd43f093": {
          "model_module": "@jupyter-widgets/controls",
          "model_name": "FloatProgressModel",
          "model_module_version": "1.5.0",
          "state": {
            "_dom_classes": [],
            "_model_module": "@jupyter-widgets/controls",
            "_model_module_version": "1.5.0",
            "_model_name": "FloatProgressModel",
            "_view_count": null,
            "_view_module": "@jupyter-widgets/controls",
            "_view_module_version": "1.5.0",
            "_view_name": "ProgressView",
            "bar_style": "",
            "description": "",
            "description_tooltip": null,
            "layout": "IPY_MODEL_cbce7bdb4f5c4716b78a63349a35bbf6",
            "max": 1,
            "min": 0,
            "orientation": "horizontal",
            "style": "IPY_MODEL_091b1d8da92a42d4abea4cc75056d09a",
            "value": 1
          }
        },
        "49359e9c802648619c6dee5d2a40fe8a": {
          "model_module": "@jupyter-widgets/base",
          "model_name": "LayoutModel",
          "model_module_version": "1.2.0",
          "state": {
            "_model_module": "@jupyter-widgets/base",
            "_model_module_version": "1.2.0",
            "_model_name": "LayoutModel",
            "_view_count": null,
            "_view_module": "@jupyter-widgets/base",
            "_view_module_version": "1.2.0",
            "_view_name": "LayoutView",
            "align_content": null,
            "align_items": null,
            "align_self": null,
            "border": null,
            "bottom": null,
            "display": null,
            "flex": null,
            "flex_flow": null,
            "grid_area": null,
            "grid_auto_columns": null,
            "grid_auto_flow": null,
            "grid_auto_rows": null,
            "grid_column": null,
            "grid_gap": null,
            "grid_row": null,
            "grid_template_areas": null,
            "grid_template_columns": null,
            "grid_template_rows": null,
            "height": null,
            "justify_content": null,
            "justify_items": null,
            "left": null,
            "margin": null,
            "max_height": null,
            "max_width": null,
            "min_height": null,
            "min_width": null,
            "object_fit": null,
            "object_position": null,
            "order": null,
            "overflow": null,
            "overflow_x": null,
            "overflow_y": null,
            "padding": null,
            "right": null,
            "top": null,
            "visibility": null,
            "width": null
          }
        },
        "7a3fb60e03094d37bfb72160776cbb57": {
          "model_module": "@jupyter-widgets/base",
          "model_name": "LayoutModel",
          "model_module_version": "1.2.0",
          "state": {
            "_model_module": "@jupyter-widgets/base",
            "_model_module_version": "1.2.0",
            "_model_name": "LayoutModel",
            "_view_count": null,
            "_view_module": "@jupyter-widgets/base",
            "_view_module_version": "1.2.0",
            "_view_name": "LayoutView",
            "align_content": null,
            "align_items": null,
            "align_self": null,
            "border": null,
            "bottom": null,
            "display": null,
            "flex": null,
            "flex_flow": null,
            "grid_area": null,
            "grid_auto_columns": null,
            "grid_auto_flow": null,
            "grid_auto_rows": null,
            "grid_column": null,
            "grid_gap": null,
            "grid_row": null,
            "grid_template_areas": null,
            "grid_template_columns": null,
            "grid_template_rows": null,
            "height": null,
            "justify_content": null,
            "justify_items": null,
            "left": null,
            "margin": null,
            "max_height": null,
            "max_width": null,
            "min_height": null,
            "min_width": null,
            "object_fit": null,
            "object_position": null,
            "order": null,
            "overflow": null,
            "overflow_x": null,
            "overflow_y": null,
            "padding": null,
            "right": null,
            "top": null,
            "visibility": null,
            "width": null
          }
        },
        "545ab57f98354fd98d27071359532da0": {
          "model_module": "@jupyter-widgets/controls",
          "model_name": "DescriptionStyleModel",
          "model_module_version": "1.5.0",
          "state": {
            "_model_module": "@jupyter-widgets/controls",
            "_model_module_version": "1.5.0",
            "_model_name": "DescriptionStyleModel",
            "_view_count": null,
            "_view_module": "@jupyter-widgets/base",
            "_view_module_version": "1.2.0",
            "_view_name": "StyleView",
            "description_width": ""
          }
        },
        "cbce7bdb4f5c4716b78a63349a35bbf6": {
          "model_module": "@jupyter-widgets/base",
          "model_name": "LayoutModel",
          "model_module_version": "1.2.0",
          "state": {
            "_model_module": "@jupyter-widgets/base",
            "_model_module_version": "1.2.0",
            "_model_name": "LayoutModel",
            "_view_count": null,
            "_view_module": "@jupyter-widgets/base",
            "_view_module_version": "1.2.0",
            "_view_name": "LayoutView",
            "align_content": null,
            "align_items": null,
            "align_self": null,
            "border": null,
            "bottom": null,
            "display": null,
            "flex": null,
            "flex_flow": null,
            "grid_area": null,
            "grid_auto_columns": null,
            "grid_auto_flow": null,
            "grid_auto_rows": null,
            "grid_column": null,
            "grid_gap": null,
            "grid_row": null,
            "grid_template_areas": null,
            "grid_template_columns": null,
            "grid_template_rows": null,
            "height": null,
            "justify_content": null,
            "justify_items": null,
            "left": null,
            "margin": null,
            "max_height": null,
            "max_width": null,
            "min_height": null,
            "min_width": null,
            "object_fit": null,
            "object_position": null,
            "order": null,
            "overflow": null,
            "overflow_x": null,
            "overflow_y": null,
            "padding": null,
            "right": null,
            "top": null,
            "visibility": null,
            "width": null
          }
        },
        "091b1d8da92a42d4abea4cc75056d09a": {
          "model_module": "@jupyter-widgets/controls",
          "model_name": "ProgressStyleModel",
          "model_module_version": "1.5.0",
          "state": {
            "_model_module": "@jupyter-widgets/controls",
            "_model_module_version": "1.5.0",
            "_model_name": "ProgressStyleModel",
            "_view_count": null,
            "_view_module": "@jupyter-widgets/base",
            "_view_module_version": "1.2.0",
            "_view_name": "StyleView",
            "bar_color": null,
            "description_width": ""
          }
        }
      }
    },
    "accelerator": "GPU"
  },
  "nbformat": 4,
  "nbformat_minor": 0
}