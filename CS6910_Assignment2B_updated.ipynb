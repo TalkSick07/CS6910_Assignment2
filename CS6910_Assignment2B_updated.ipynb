{
  "cells": [
    {
      "cell_type": "code",
      "execution_count": 1,
      "metadata": {
        "id": "1n3lJ0BXBajc"
      },
      "outputs": [],
      "source": [
        "#Necessary Libraries\n",
        "import numpy as np\n",
        "import tensorflow\n",
        "from keras.utils import np_utils\n",
        "from tensorflow.keras import regularizers\n",
        "from tensorflow.keras.optimizers import Adam\n",
        "from tensorflow.keras.models import Sequential\n",
        "from tensorflow.keras.preprocessing.image import ImageDataGenerator\n",
        "from tensorflow.keras.layers import Dense, Flatten, Conv2D, BatchNormalization, Dropout, MaxPooling2D, Activation\n",
        "from tensorflow.keras.applications import InceptionV3, InceptionResNetV2, ResNet50, Xception"
      ]
    },
    {
      "cell_type": "code",
      "execution_count": 2,
      "metadata": {
        "colab": {
          "base_uri": "https://localhost:8080/"
        },
        "id": "cabP6Q9zCNJY",
        "outputId": "c2bc2152-c19c-4b42-964c-cb1f1250dfa6"
      },
      "outputs": [
        {
          "output_type": "stream",
          "name": "stdout",
          "text": [
            "Mounted at /content/drive\n"
          ]
        }
      ],
      "source": [
        "#Mounting the drive to access the dataset\n",
        "from google.colab import drive\n",
        "drive.mount('/content/drive')"
      ]
    },
    {
      "cell_type": "code",
      "execution_count": 3,
      "metadata": {
        "id": "Ww3jRoxuCd-e"
      },
      "outputs": [],
      "source": [
        "#Unzipping the nature_12K.zip dataset\n",
        "zip_path = \"/content/drive/MyDrive/Dataset /nature_12K.zip\"\n",
        "!cp \"{zip_path}\" .\n",
        "!unzip -q nature_12K.zip\n",
        "!rm nature_12K.zip"
      ]
    },
    {
      "cell_type": "code",
      "execution_count": 4,
      "metadata": {
        "id": "bBL-yoIPCiB-",
        "colab": {
          "base_uri": "https://localhost:8080/"
        },
        "outputId": "2fb69132-3f07-4fba-97db-ef4ece3d79de"
      },
      "outputs": [
        {
          "output_type": "stream",
          "name": "stdout",
          "text": [
            "\u001b[K     |████████████████████████████████| 1.7 MB 4.2 MB/s \n",
            "\u001b[K     |████████████████████████████████| 181 kB 45.5 MB/s \n",
            "\u001b[K     |████████████████████████████████| 144 kB 47.1 MB/s \n",
            "\u001b[K     |████████████████████████████████| 63 kB 1.6 MB/s \n",
            "\u001b[?25h  Building wheel for pathtools (setup.py) ... \u001b[?25l\u001b[?25hdone\n"
          ]
        }
      ],
      "source": [
        "#Installing the wandb library\n",
        "\n",
        "!pip install wandb -qqq\n",
        "import wandb\n",
        "from wandb.keras import WandbCallback"
      ]
    },
    {
      "cell_type": "code",
      "execution_count": 5,
      "metadata": {
        "id": "2rya88toGog8"
      },
      "outputs": [],
      "source": [
        "# Storing the training and testing directories\n",
        "import os \n",
        "Tags = ['Amphibia','Animalia','Arachnida','Aves','Fungi','Insecta','Mammalia','Mollusca','Plantae','Reptilia']\n",
        "no_class = 10\n",
        "train_dir='inaturalist_12K/train/'\n",
        "test_dir='inaturalist_12K/val/'"
      ]
    },
    {
      "cell_type": "code",
      "execution_count": 16,
      "metadata": {
        "id": "eDsrg3RAGw9l"
      },
      "outputs": [],
      "source": [
        "# Generating the dataset for training and validation\n",
        "def train_val__test_data_generation(image_size=128,batch_size=256,augment_data=False):\n",
        "    #Augmenting the data to avoid overfitting\n",
        "    if augment_data:\n",
        "        train_datagen = ImageDataGenerator(rescale=1./255,\n",
        "                                          rotation_range=45,\n",
        "                                          zoom_range=0.2,\n",
        "                                          shear_range=0.2,\n",
        "                                          validation_split=0.1,\n",
        "                                          horizontal_flip=True,\n",
        "                                          vertical_flip=False)\n",
        "        test_datagen = ImageDataGenerator(rescale=1./255)\n",
        "\n",
        "    else:\n",
        "        train_datagen = ImageDataGenerator(rescale=1./255, validation_split=0.1)\n",
        "        test_datagen = ImageDataGenerator(rescale=1./255)\n",
        "\n",
        "    #Generating data batch by batch in order to make the model faster to run the dataset\n",
        "    train_generator = train_datagen.flow_from_directory(train_dir, target_size=(image_size,image_size), batch_size=batch_size, subset=\"training\")\n",
        "    val_generator = train_datagen.flow_from_directory(train_dir, target_size=(image_size,image_size), batch_size=batch_size, subset=\"validation\")\n",
        "    test_generator = test_datagen.flow_from_directory(test_dir, target_size=(image_size,image_size), batch_size=batch_size)\n",
        "    \n",
        "    return train_generator, val_generator, test_generator"
      ]
    },
    {
      "cell_type": "code",
      "source": [
        "def PreTrainedModel():\n",
        "    #default configurations\n",
        "    config_defaults = {\n",
        "        'weight_decay': 0.005,\n",
        "        'dropout': 0.2,\n",
        "        'batch_size': 64,\n",
        "        'epochs': 10,\n",
        "        'batch_norm': True,\n",
        "        'augment_data': True,\n",
        "        'dense_size': 256,\n",
        "        'seed': 1234,\n",
        "        'pre_trained_model': 'Xception'\n",
        "    }\n",
        "    image_size=128\n",
        "    # Initialize a new wandb run\n",
        "    wandb.init(config=config_defaults)\n",
        "    #config will store the hyperparameters\n",
        "    config = wandb.config\n",
        "    wandb.run.name = 'pmodel_'+ str(config.pre_trained_model)+'dense_size_'+ str(config.dense_size)+'_dropout_'+str(config.dropout)+'_bn_'+str(config.batch_norm)+'_ag_'+ str(config.augment_data)\n",
        "\n",
        "    if config.pre_trained_model == 'Inceptionv3':\n",
        "        image_size=299\n",
        "        pmodel = InceptionV3(include_top=False, weights='imagenet',input_shape=(image_size,image_size,3))\n",
        "    elif config.pre_trained_model == 'Inceptionresnetv2':\n",
        "        image_size=299\n",
        "        pmodel = InceptionResNetV2(include_top=False, weights='imagenet',input_shape=(image_size,image_size,3))\n",
        "    elif config.pre_trained_model == 'Xception':\n",
        "        image_size=299\n",
        "        pmodel = Xception(include_top=False, weights='imagenet',input_shape=(image_size,image_size,3))\n",
        "    elif config.pre_trained_model == 'Resnet50':\n",
        "        image_size=224\n",
        "        pmodel = ResNet50(include_top=False, weights='imagenet',input_shape=(image_size,image_size,3))\n",
        "  \n",
        "\n",
        "    pmodel.trainable = False\n",
        "    model = Sequential()\n",
        "    model.add(pmodel)\n",
        "    model.add(Flatten())\n",
        "    if config.batch_norm:\n",
        "        model.add(BatchNormalization())\n",
        "    model.add(Dense(config.dense_size, activation='relu'))\n",
        "    model.add(Dropout(config.dropout))\n",
        "    model.add(Dense(10, activation='softmax'))\n",
        "    model.compile(loss = \"categorical_crossentropy\", optimizer = 'adam', metrics=['accuracy'])\n",
        "    train_generator, val_generator, test_generator = train_val__test_data_generation(image_size=image_size,batch_size=config.batch_size,augment_data=config.augment_data)\n",
        "    hist=model.fit(train_generator, epochs=config.epochs, validation_data=val_generator, callbacks=[WandbCallback()])\n",
        "    val_acc=max(hist.history['val_accuracy'])\n",
        "    params={'batch_norm':config.batch_norm,'augmentation':config.augment_data,'dropout':config.dropout,\n",
        "            'pre_trained_model':config.pre_trained_model,'val_acc':val_acc}\n",
        "    wandb.log(params)"
      ],
      "metadata": {
        "id": "bXKEteX2P8eX"
      },
      "execution_count": null,
      "outputs": []
    },
    {
      "cell_type": "code",
      "execution_count": 12,
      "metadata": {
        "id": "p6SwMjhdN80U"
      },
      "outputs": [],
      "source": [
        "#Configurations to find out the best hyperparameters out of them\n",
        "sweep_config = {\n",
        "    'method': 'bayes', \n",
        "    'metric': {\n",
        "      'name': 'val_accuracy',\n",
        "      'goal': 'maximize'   \n",
        "    },\n",
        "    'parameters': {\n",
        "        'weight_decay': {\n",
        "            'values': [0, 0.0005, 0.005]\n",
        "        },\n",
        "        'pre_trained_model': {\n",
        "            'values':['Inceptionv3','Inceptionresnetv2','Xception','Resnet50']\n",
        "        },\n",
        "        'dropout': {\n",
        "            'values': [0, 0.2, 0.3, 0.4]\n",
        "        },\n",
        "        'batch_norm':{\n",
        "            'values': [True,False]\n",
        "        },\n",
        "        'augment_data': {\n",
        "            'values': [True,False]\n",
        "        },\n",
        "        'batch_size': {\n",
        "            'values': [32, 64, 128, 256]\n",
        "        },\n",
        "        'dense_size':{\n",
        "            'values': [64, 128, 256, 512]\n",
        "        }\n",
        "    }\n",
        "}"
      ]
    },
    {
      "cell_type": "code",
      "execution_count": 13,
      "metadata": {
        "id": "jdOjtk52GzsF"
      },
      "outputs": [],
      "source": [
        "def PreTrainedModel():\n",
        "    #default configurations\n",
        "    config_defaults = {\n",
        "        'weight_decay': 0.005,\n",
        "        'dropout': 0.2,\n",
        "        'batch_size': 64,\n",
        "        'epochs': 10,\n",
        "        'batch_norm': True,\n",
        "        'augment_data': True,\n",
        "        'dense_size': 256,\n",
        "        'seed': 1234,\n",
        "        'pre_trained_model': 'Xception'\n",
        "    }\n",
        "    image_size=128\n",
        "    # Initialize a new wandb run\n",
        "    wandb.init(config=config_defaults)\n",
        "    #config will store the hyperparameters\n",
        "    config = wandb.config\n",
        "    wandb.run.name = 'pmodel_'+ str(config.pre_trained_model)+'dense_size_'+ str(config.dense_size)+'_dropout_'+str(config.dropout)+'_bn_'+str(config.batch_norm)+'_ag_'+ str(config.augment_data)\n",
        "\n",
        "    if config.pre_trained_model == 'Inceptionv3':\n",
        "        image_size=299\n",
        "        pmodel = InceptionV3(include_top=False, weights='imagenet',input_shape=(image_size,image_size,3))\n",
        "    elif config.pre_trained_model == 'Inceptionresnetv2':\n",
        "        image_size=299\n",
        "        pmodel = InceptionResNetV2(include_top=False, weights='imagenet',input_shape=(image_size,image_size,3))\n",
        "    elif config.pre_trained_model == 'Xception':\n",
        "        image_size=299\n",
        "        pmodel = Xception(include_top=False, weights='imagenet',input_shape=(image_size,image_size,3))\n",
        "    elif config.pre_trained_model == 'Resnet50':\n",
        "        image_size=224\n",
        "        pmodel = ResNet50(include_top=False, weights='imagenet',input_shape=(image_size,image_size,3))\n",
        "  \n",
        "\n",
        "    pmodel.trainable = False\n",
        "    model = Sequential()\n",
        "    model.add(pmodel)\n",
        "    model.add(Flatten())\n",
        "    if config.batch_norm:\n",
        "        model.add(BatchNormalization())\n",
        "    model.add(Dense(config.dense_size, activation='relu'))\n",
        "    model.add(Dropout(config.dropout))\n",
        "    model.add(Dense(10, activation='softmax'))\n",
        "    model.compile(loss = \"categorical_crossentropy\", optimizer = 'adam', metrics=['accuracy'])\n",
        "    train_generator, val_generator, test_generator = train_val__test_data_generation(image_size=image_size,batch_size=config.batch_size,augment_data=config.augment_data)\n",
        "    hist=model.fit(train_generator, epochs=config.epochs, validation_data=val_generator, callbacks=[WandbCallback()])\n",
        "    val_acc=max(hist.history['val_accuracy'])\n",
        "    params={'batch_norm':config.batch_norm,'augmentation':config.augment_data,'dropout':config.dropout,\n",
        "            'pre_trained_model':config.pre_trained_model,'val_acc':val_acc}\n",
        "    wandb.log(params)"
      ]
    },
    {
      "cell_type": "code",
      "execution_count": 17,
      "metadata": {
        "colab": {
          "base_uri": "https://localhost:8080/"
        },
        "id": "fYxTlBMdawv-",
        "outputId": "b45979e8-5480-4839-ed7e-52047e155f9d"
      },
      "outputs": [
        {
          "output_type": "stream",
          "name": "stdout",
          "text": [
            "Create sweep with ID: i1haqmcw\n",
            "Sweep URL: https://wandb.ai/nomads/CS6910_DL_Assignment2/sweeps/i1haqmcw\n"
          ]
        }
      ],
      "source": [
        "sweep_id = wandb.sweep(sweep_config, project=\"CS6910_DL_Assignment2\", entity=\"nomads\")\n"
      ]
    },
    {
      "cell_type": "code",
      "execution_count": 18,
      "metadata": {
        "colab": {
          "base_uri": "https://localhost:8080/",
          "height": 1000,
          "referenced_widgets": [
            "9d875918c4a14a208f34cf8833b6094f",
            "a5a0e27696d046d39c94a5bb03f4b299",
            "a8a3eb1a3e224697b0a0017b3387874a",
            "f4936153ba0b4fda8092cc0a4f060ae3",
            "e69a4e69fbde4feda7220e6625edb898",
            "da325b5a36f643a2a130c40cb811513f",
            "46cae19831524d3e8bb471da0ff9ff9b",
            "d5c18850c1314c199085b24a1c56465a"
          ]
        },
        "id": "gu3G7r1ya_Ji",
        "outputId": "397f2e02-20cf-4cf7-d2a2-c71b4e41446d"
      },
      "outputs": [
        {
          "output_type": "stream",
          "name": "stderr",
          "text": [
            "\u001b[34m\u001b[1mwandb\u001b[0m: Agent Starting Run: q4udgnxe with config:\n",
            "\u001b[34m\u001b[1mwandb\u001b[0m: \taugment_data: False\n",
            "\u001b[34m\u001b[1mwandb\u001b[0m: \tbatch_norm: True\n",
            "\u001b[34m\u001b[1mwandb\u001b[0m: \tbatch_size: 64\n",
            "\u001b[34m\u001b[1mwandb\u001b[0m: \tdense_size: 256\n",
            "\u001b[34m\u001b[1mwandb\u001b[0m: \tdropout: 0.3\n",
            "\u001b[34m\u001b[1mwandb\u001b[0m: \tpre_trained_model: Inceptionv3\n",
            "\u001b[34m\u001b[1mwandb\u001b[0m: \tweight_decay: 0\n"
          ]
        },
        {
          "output_type": "display_data",
          "data": {
            "text/plain": [
              "<IPython.core.display.HTML object>"
            ],
            "text/html": [
              "Tracking run with wandb version 0.12.11"
            ]
          },
          "metadata": {}
        },
        {
          "output_type": "display_data",
          "data": {
            "text/plain": [
              "<IPython.core.display.HTML object>"
            ],
            "text/html": [
              "Run data is saved locally in <code>/content/wandb/run-20220331_043710-q4udgnxe</code>"
            ]
          },
          "metadata": {}
        },
        {
          "output_type": "display_data",
          "data": {
            "text/plain": [
              "<IPython.core.display.HTML object>"
            ],
            "text/html": [
              "Syncing run <strong><a href=\"https://wandb.ai/nomads/CS6910_DL_Assignment2/runs/q4udgnxe\" target=\"_blank\">easy-sweep-1</a></strong> to <a href=\"https://wandb.ai/nomads/CS6910_DL_Assignment2\" target=\"_blank\">Weights & Biases</a> (<a href=\"https://wandb.me/run\" target=\"_blank\">docs</a>)<br/>Sweep page:  <a href=\"https://wandb.ai/nomads/CS6910_DL_Assignment2/sweeps/i1haqmcw\" target=\"_blank\">https://wandb.ai/nomads/CS6910_DL_Assignment2/sweeps/i1haqmcw</a>"
            ]
          },
          "metadata": {}
        },
        {
          "output_type": "stream",
          "name": "stdout",
          "text": [
            "Downloading data from https://storage.googleapis.com/tensorflow/keras-applications/inception_v3/inception_v3_weights_tf_dim_ordering_tf_kernels_notop.h5\n",
            "87916544/87910968 [==============================] - 1s 0us/step\n",
            "87924736/87910968 [==============================] - 1s 0us/step\n",
            "Found 9000 images belonging to 10 classes.\n",
            "Found 999 images belonging to 10 classes.\n",
            "Found 2000 images belonging to 10 classes.\n",
            "Epoch 1/10\n",
            "141/141 [==============================] - 192s 1s/step - loss: 12.7439 - accuracy: 0.6870 - val_loss: 4.5944 - val_accuracy: 0.7227 - _timestamp: 1648701636.0000 - _runtime: 206.0000\n",
            "Epoch 2/10\n",
            "141/141 [==============================] - 157s 1s/step - loss: 2.5962 - accuracy: 0.8621 - val_loss: 4.8127 - val_accuracy: 0.7618 - _timestamp: 1648701794.0000 - _runtime: 364.0000\n",
            "Epoch 3/10\n",
            "141/141 [==============================] - 152s 1s/step - loss: 1.1518 - accuracy: 0.9109 - val_loss: 5.3205 - val_accuracy: 0.7648 - _timestamp: 1648701947.0000 - _runtime: 517.0000\n",
            "Epoch 4/10\n",
            "141/141 [==============================] - 155s 1s/step - loss: 0.7125 - accuracy: 0.9308 - val_loss: 5.1628 - val_accuracy: 0.7768 - _timestamp: 1648702102.0000 - _runtime: 672.0000\n",
            "Epoch 5/10\n",
            "141/141 [==============================] - 155s 1s/step - loss: 0.6096 - accuracy: 0.9349 - val_loss: 5.1929 - val_accuracy: 0.7908 - _timestamp: 1648702257.0000 - _runtime: 827.0000\n",
            "Epoch 6/10\n",
            "141/141 [==============================] - 153s 1s/step - loss: 0.6303 - accuracy: 0.9382 - val_loss: 5.1687 - val_accuracy: 0.7678 - _timestamp: 1648702410.0000 - _runtime: 980.0000\n",
            "Epoch 7/10\n",
            "141/141 [==============================] - 152s 1s/step - loss: 0.4814 - accuracy: 0.9448 - val_loss: 5.7325 - val_accuracy: 0.7648 - _timestamp: 1648702562.0000 - _runtime: 1132.0000\n",
            "Epoch 8/10\n",
            "141/141 [==============================] - 151s 1s/step - loss: 0.4936 - accuracy: 0.9464 - val_loss: 5.7035 - val_accuracy: 0.7948 - _timestamp: 1648702713.0000 - _runtime: 1283.0000\n",
            "Epoch 9/10\n",
            "141/141 [==============================] - 152s 1s/step - loss: 0.4565 - accuracy: 0.9504 - val_loss: 5.7746 - val_accuracy: 0.7738 - _timestamp: 1648702865.0000 - _runtime: 1435.0000\n",
            "Epoch 10/10\n",
            "141/141 [==============================] - 153s 1s/step - loss: 0.4910 - accuracy: 0.9491 - val_loss: 6.2187 - val_accuracy: 0.7688 - _timestamp: 1648703018.0000 - _runtime: 1588.0000\n",
            "\n"
          ]
        },
        {
          "output_type": "display_data",
          "data": {
            "text/plain": [
              "<IPython.core.display.HTML object>"
            ],
            "text/html": [
              "Waiting for W&B process to finish... <strong style=\"color:green\">(success).</strong>"
            ]
          },
          "metadata": {}
        },
        {
          "output_type": "display_data",
          "data": {
            "text/plain": [
              "VBox(children=(Label(value='0.002 MB of 0.002 MB uploaded (0.000 MB deduped)\\r'), FloatProgress(value=1.0, max…"
            ],
            "application/vnd.jupyter.widget-view+json": {
              "version_major": 2,
              "version_minor": 0,
              "model_id": "9d875918c4a14a208f34cf8833b6094f"
            }
          },
          "metadata": {}
        },
        {
          "output_type": "display_data",
          "data": {
            "text/plain": [
              "<IPython.core.display.HTML object>"
            ],
            "text/html": [
              "<style>\n",
              "    table.wandb td:nth-child(1) { padding: 0 10px; text-align: right }\n",
              "    .wandb-row { display: flex; flex-direction: row; flex-wrap: wrap; width: 100% }\n",
              "    .wandb-col { display: flex; flex-direction: column; flex-basis: 100%; flex: 1; padding: 10px; }\n",
              "    </style>\n",
              "<div class=\"wandb-row\"><div class=\"wandb-col\"><h3>Run history:</h3><br/><table class=\"wandb\"><tr><td>accuracy</td><td>▁▆▇▇██████</td></tr><tr><td>augmentation</td><td>▁</td></tr><tr><td>batch_norm</td><td>▁</td></tr><tr><td>dropout</td><td>▁</td></tr><tr><td>epoch</td><td>▁▂▃▃▄▅▆▆▇█</td></tr><tr><td>loss</td><td>█▂▁▁▁▁▁▁▁▁</td></tr><tr><td>val_acc</td><td>▁</td></tr><tr><td>val_accuracy</td><td>▁▅▅▆█▅▅█▆▅</td></tr><tr><td>val_loss</td><td>▁▂▄▃▄▃▆▆▆█</td></tr></table><br/></div><div class=\"wandb-col\"><h3>Run summary:</h3><br/><table class=\"wandb\"><tr><td>accuracy</td><td>0.94911</td></tr><tr><td>augmentation</td><td>False</td></tr><tr><td>batch_norm</td><td>True</td></tr><tr><td>best_epoch</td><td>0</td></tr><tr><td>best_val_loss</td><td>4.59438</td></tr><tr><td>dropout</td><td>0.3</td></tr><tr><td>epoch</td><td>9</td></tr><tr><td>loss</td><td>0.49102</td></tr><tr><td>pre_trained_model</td><td>Inceptionv3</td></tr><tr><td>val_acc</td><td>0.79479</td></tr><tr><td>val_accuracy</td><td>0.76877</td></tr><tr><td>val_loss</td><td>6.21874</td></tr></table><br/></div></div>"
            ]
          },
          "metadata": {}
        },
        {
          "output_type": "display_data",
          "data": {
            "text/plain": [
              "<IPython.core.display.HTML object>"
            ],
            "text/html": [
              "Synced <strong style=\"color:#cdcd00\">easy-sweep-1</strong>: <a href=\"https://wandb.ai/nomads/CS6910_DL_Assignment2/runs/q4udgnxe\" target=\"_blank\">https://wandb.ai/nomads/CS6910_DL_Assignment2/runs/q4udgnxe</a><br/>Synced 5 W&B file(s), 1 media file(s), 0 artifact file(s) and 1 other file(s)"
            ]
          },
          "metadata": {}
        },
        {
          "output_type": "display_data",
          "data": {
            "text/plain": [
              "<IPython.core.display.HTML object>"
            ],
            "text/html": [
              "Find logs at: <code>./wandb/run-20220331_043710-q4udgnxe/logs</code>"
            ]
          },
          "metadata": {}
        }
      ],
      "source": [
        "wandb.agent('i1haqmcw',PreTrainedModel, count = 1)"
      ]
    }
  ],
  "metadata": {
    "colab": {
      "collapsed_sections": [],
      "name": "CS6910_Assignment2B_updated.ipynb",
      "provenance": []
    },
    "kernelspec": {
      "display_name": "Python 3",
      "name": "python3"
    },
    "language_info": {
      "name": "python"
    },
    "widgets": {
      "application/vnd.jupyter.widget-state+json": {
        "9d875918c4a14a208f34cf8833b6094f": {
          "model_module": "@jupyter-widgets/controls",
          "model_name": "VBoxModel",
          "model_module_version": "1.5.0",
          "state": {
            "_dom_classes": [],
            "_model_module": "@jupyter-widgets/controls",
            "_model_module_version": "1.5.0",
            "_model_name": "VBoxModel",
            "_view_count": null,
            "_view_module": "@jupyter-widgets/controls",
            "_view_module_version": "1.5.0",
            "_view_name": "VBoxView",
            "box_style": "",
            "children": [
              "IPY_MODEL_a5a0e27696d046d39c94a5bb03f4b299",
              "IPY_MODEL_a8a3eb1a3e224697b0a0017b3387874a"
            ],
            "layout": "IPY_MODEL_f4936153ba0b4fda8092cc0a4f060ae3"
          }
        },
        "a5a0e27696d046d39c94a5bb03f4b299": {
          "model_module": "@jupyter-widgets/controls",
          "model_name": "LabelModel",
          "model_module_version": "1.5.0",
          "state": {
            "_dom_classes": [],
            "_model_module": "@jupyter-widgets/controls",
            "_model_module_version": "1.5.0",
            "_model_name": "LabelModel",
            "_view_count": null,
            "_view_module": "@jupyter-widgets/controls",
            "_view_module_version": "1.5.0",
            "_view_name": "LabelView",
            "description": "",
            "description_tooltip": null,
            "layout": "IPY_MODEL_e69a4e69fbde4feda7220e6625edb898",
            "placeholder": "​",
            "style": "IPY_MODEL_da325b5a36f643a2a130c40cb811513f",
            "value": "471.723 MB of 471.723 MB uploaded (0.000 MB deduped)\r"
          }
        },
        "a8a3eb1a3e224697b0a0017b3387874a": {
          "model_module": "@jupyter-widgets/controls",
          "model_name": "FloatProgressModel",
          "model_module_version": "1.5.0",
          "state": {
            "_dom_classes": [],
            "_model_module": "@jupyter-widgets/controls",
            "_model_module_version": "1.5.0",
            "_model_name": "FloatProgressModel",
            "_view_count": null,
            "_view_module": "@jupyter-widgets/controls",
            "_view_module_version": "1.5.0",
            "_view_name": "ProgressView",
            "bar_style": "",
            "description": "",
            "description_tooltip": null,
            "layout": "IPY_MODEL_46cae19831524d3e8bb471da0ff9ff9b",
            "max": 1,
            "min": 0,
            "orientation": "horizontal",
            "style": "IPY_MODEL_d5c18850c1314c199085b24a1c56465a",
            "value": 1
          }
        },
        "f4936153ba0b4fda8092cc0a4f060ae3": {
          "model_module": "@jupyter-widgets/base",
          "model_name": "LayoutModel",
          "model_module_version": "1.2.0",
          "state": {
            "_model_module": "@jupyter-widgets/base",
            "_model_module_version": "1.2.0",
            "_model_name": "LayoutModel",
            "_view_count": null,
            "_view_module": "@jupyter-widgets/base",
            "_view_module_version": "1.2.0",
            "_view_name": "LayoutView",
            "align_content": null,
            "align_items": null,
            "align_self": null,
            "border": null,
            "bottom": null,
            "display": null,
            "flex": null,
            "flex_flow": null,
            "grid_area": null,
            "grid_auto_columns": null,
            "grid_auto_flow": null,
            "grid_auto_rows": null,
            "grid_column": null,
            "grid_gap": null,
            "grid_row": null,
            "grid_template_areas": null,
            "grid_template_columns": null,
            "grid_template_rows": null,
            "height": null,
            "justify_content": null,
            "justify_items": null,
            "left": null,
            "margin": null,
            "max_height": null,
            "max_width": null,
            "min_height": null,
            "min_width": null,
            "object_fit": null,
            "object_position": null,
            "order": null,
            "overflow": null,
            "overflow_x": null,
            "overflow_y": null,
            "padding": null,
            "right": null,
            "top": null,
            "visibility": null,
            "width": null
          }
        },
        "e69a4e69fbde4feda7220e6625edb898": {
          "model_module": "@jupyter-widgets/base",
          "model_name": "LayoutModel",
          "model_module_version": "1.2.0",
          "state": {
            "_model_module": "@jupyter-widgets/base",
            "_model_module_version": "1.2.0",
            "_model_name": "LayoutModel",
            "_view_count": null,
            "_view_module": "@jupyter-widgets/base",
            "_view_module_version": "1.2.0",
            "_view_name": "LayoutView",
            "align_content": null,
            "align_items": null,
            "align_self": null,
            "border": null,
            "bottom": null,
            "display": null,
            "flex": null,
            "flex_flow": null,
            "grid_area": null,
            "grid_auto_columns": null,
            "grid_auto_flow": null,
            "grid_auto_rows": null,
            "grid_column": null,
            "grid_gap": null,
            "grid_row": null,
            "grid_template_areas": null,
            "grid_template_columns": null,
            "grid_template_rows": null,
            "height": null,
            "justify_content": null,
            "justify_items": null,
            "left": null,
            "margin": null,
            "max_height": null,
            "max_width": null,
            "min_height": null,
            "min_width": null,
            "object_fit": null,
            "object_position": null,
            "order": null,
            "overflow": null,
            "overflow_x": null,
            "overflow_y": null,
            "padding": null,
            "right": null,
            "top": null,
            "visibility": null,
            "width": null
          }
        },
        "da325b5a36f643a2a130c40cb811513f": {
          "model_module": "@jupyter-widgets/controls",
          "model_name": "DescriptionStyleModel",
          "model_module_version": "1.5.0",
          "state": {
            "_model_module": "@jupyter-widgets/controls",
            "_model_module_version": "1.5.0",
            "_model_name": "DescriptionStyleModel",
            "_view_count": null,
            "_view_module": "@jupyter-widgets/base",
            "_view_module_version": "1.2.0",
            "_view_name": "StyleView",
            "description_width": ""
          }
        },
        "46cae19831524d3e8bb471da0ff9ff9b": {
          "model_module": "@jupyter-widgets/base",
          "model_name": "LayoutModel",
          "model_module_version": "1.2.0",
          "state": {
            "_model_module": "@jupyter-widgets/base",
            "_model_module_version": "1.2.0",
            "_model_name": "LayoutModel",
            "_view_count": null,
            "_view_module": "@jupyter-widgets/base",
            "_view_module_version": "1.2.0",
            "_view_name": "LayoutView",
            "align_content": null,
            "align_items": null,
            "align_self": null,
            "border": null,
            "bottom": null,
            "display": null,
            "flex": null,
            "flex_flow": null,
            "grid_area": null,
            "grid_auto_columns": null,
            "grid_auto_flow": null,
            "grid_auto_rows": null,
            "grid_column": null,
            "grid_gap": null,
            "grid_row": null,
            "grid_template_areas": null,
            "grid_template_columns": null,
            "grid_template_rows": null,
            "height": null,
            "justify_content": null,
            "justify_items": null,
            "left": null,
            "margin": null,
            "max_height": null,
            "max_width": null,
            "min_height": null,
            "min_width": null,
            "object_fit": null,
            "object_position": null,
            "order": null,
            "overflow": null,
            "overflow_x": null,
            "overflow_y": null,
            "padding": null,
            "right": null,
            "top": null,
            "visibility": null,
            "width": null
          }
        },
        "d5c18850c1314c199085b24a1c56465a": {
          "model_module": "@jupyter-widgets/controls",
          "model_name": "ProgressStyleModel",
          "model_module_version": "1.5.0",
          "state": {
            "_model_module": "@jupyter-widgets/controls",
            "_model_module_version": "1.5.0",
            "_model_name": "ProgressStyleModel",
            "_view_count": null,
            "_view_module": "@jupyter-widgets/base",
            "_view_module_version": "1.2.0",
            "_view_name": "StyleView",
            "bar_color": null,
            "description_width": ""
          }
        }
      }
    },
    "accelerator": "GPU"
  },
  "nbformat": 4,
  "nbformat_minor": 0
}